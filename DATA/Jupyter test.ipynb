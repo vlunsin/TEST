{
 "cells": [
  {
   "cell_type": "code",
   "execution_count": null,
   "metadata": {},
   "outputs": [
    {
     "data": {
      "text/html": [
       "<div>\n",
       "<style scoped>\n",
       "    .dataframe tbody tr th:only-of-type {\n",
       "        vertical-align: middle;\n",
       "    }\n",
       "\n",
       "    .dataframe tbody tr th {\n",
       "        vertical-align: top;\n",
       "    }\n",
       "\n",
       "    .dataframe thead th {\n",
       "        text-align: right;\n",
       "    }\n",
       "</style>\n",
       "<table border=\"1\" class=\"dataframe\">\n",
       "  <thead>\n",
       "    <tr style=\"text-align: right;\">\n",
       "      <th></th>\n",
       "      <th>Date</th>\n",
       "      <th>Currency</th>\n",
       "      <th>Exchange Rate</th>\n",
       "    </tr>\n",
       "  </thead>\n",
       "  <tbody>\n",
       "    <tr>\n",
       "      <th>0</th>\n",
       "      <td>2024-05-01</td>\n",
       "      <td>US Dollar</td>\n",
       "      <td>0.006343074131188286</td>\n",
       "    </tr>\n",
       "    <tr>\n",
       "      <th>1</th>\n",
       "      <td>2024-05-01</td>\n",
       "      <td>Euro</td>\n",
       "      <td>0.005939370701741986</td>\n",
       "    </tr>\n",
       "    <tr>\n",
       "      <th>2</th>\n",
       "      <td>2024-05-01</td>\n",
       "      <td>British Pound</td>\n",
       "      <td>0.005079471188726964</td>\n",
       "    </tr>\n",
       "    <tr>\n",
       "      <th>3</th>\n",
       "      <td>2024-05-01</td>\n",
       "      <td>Indian Rupee</td>\n",
       "      <td>0.5293889204561103</td>\n",
       "    </tr>\n",
       "    <tr>\n",
       "      <th>4</th>\n",
       "      <td>2024-05-01</td>\n",
       "      <td>Australian Dollar</td>\n",
       "      <td>0.009768078728538975</td>\n",
       "    </tr>\n",
       "    <tr>\n",
       "      <th>...</th>\n",
       "      <td>...</td>\n",
       "      <td>...</td>\n",
       "      <td>...</td>\n",
       "    </tr>\n",
       "    <tr>\n",
       "      <th>985</th>\n",
       "      <td>2024-05-05</td>\n",
       "      <td>&lt;a href=\"/currency/usd-us-dollar/\" class=\"sc-7...</td>\n",
       "      <td>4.75%</td>\n",
       "    </tr>\n",
       "    <tr>\n",
       "      <th>986</th>\n",
       "      <td>2024-05-05</td>\n",
       "      <td>&lt;a href=\"/currency/cad-canadian-dollar/\" class...</td>\n",
       "      <td>3.25%</td>\n",
       "    </tr>\n",
       "    <tr>\n",
       "      <th>987</th>\n",
       "      <td>2024-05-05</td>\n",
       "      <td>&lt;a href=\"/currency/aud-australian-dollar/\" cla...</td>\n",
       "      <td>4.35%</td>\n",
       "    </tr>\n",
       "    <tr>\n",
       "      <th>988</th>\n",
       "      <td>2024-05-05</td>\n",
       "      <td>&lt;a href=\"/currency/nzd-new-zealand-dollar/\" cl...</td>\n",
       "      <td>4.25%</td>\n",
       "    </tr>\n",
       "    <tr>\n",
       "      <th>989</th>\n",
       "      <td>2024-05-05</td>\n",
       "      <td>&lt;a href=\"/currency/gbp-british-pound/\" class=\"...</td>\n",
       "      <td>4.75%</td>\n",
       "    </tr>\n",
       "  </tbody>\n",
       "</table>\n",
       "<p>990 rows × 3 columns</p>\n",
       "</div>"
      ],
      "text/plain": [
       "           Date                                           Currency  \\\n",
       "0    2024-05-01                                          US Dollar   \n",
       "1    2024-05-01                                               Euro   \n",
       "2    2024-05-01                                      British Pound   \n",
       "3    2024-05-01                                       Indian Rupee   \n",
       "4    2024-05-01                                  Australian Dollar   \n",
       "..          ...                                                ...   \n",
       "985  2024-05-05  <a href=\"/currency/usd-us-dollar/\" class=\"sc-7...   \n",
       "986  2024-05-05  <a href=\"/currency/cad-canadian-dollar/\" class...   \n",
       "987  2024-05-05  <a href=\"/currency/aud-australian-dollar/\" cla...   \n",
       "988  2024-05-05  <a href=\"/currency/nzd-new-zealand-dollar/\" cl...   \n",
       "989  2024-05-05  <a href=\"/currency/gbp-british-pound/\" class=\"...   \n",
       "\n",
       "            Exchange Rate  \n",
       "0    0.006343074131188286  \n",
       "1    0.005939370701741986  \n",
       "2    0.005079471188726964  \n",
       "3      0.5293889204561103  \n",
       "4    0.009768078728538975  \n",
       "..                    ...  \n",
       "985                 4.75%  \n",
       "986                 3.25%  \n",
       "987                 4.35%  \n",
       "988                 4.25%  \n",
       "989                 4.75%  \n",
       "\n",
       "[990 rows x 3 columns]"
      ]
     },
     "execution_count": 2,
     "metadata": {},
     "output_type": "execute_result"
    }
   ],
   "source": [
    "import pandas \n",
    "\n",
    "# data = pandas.read_excel('currency_exchange_data.xlsx', sheet_name = 'Sheet1')\n",
    "data = pandas.read_excel('currency_exchange_data.xlsx')\n",
    "data"
   ]
  },
  {
   "cell_type": "code",
   "execution_count": 6,
   "metadata": {},
   "outputs": [],
   "source": [
    "# can set another column as index (or suppress the index column)\n",
    "data = pandas.read_excel('currency_exchange_data.xlsx', index_col=0)"
   ]
  },
  {
   "cell_type": "code",
   "execution_count": null,
   "metadata": {},
   "outputs": [],
   "source": [
    "# can select only columns A and B\n",
    "data = pandas.read_excel('currency_exchange_data.xlsx', usecols='A,B')"
   ]
  },
  {
   "cell_type": "code",
   "execution_count": 3,
   "metadata": {},
   "outputs": [],
   "source": [
    "# can ignore header\n",
    "data = pandas.read_excel('currency_exchange_data.xlsx', header = None)"
   ]
  },
  {
   "cell_type": "code",
   "execution_count": 4,
   "metadata": {},
   "outputs": [],
   "source": [
    "# can skip rows for example row 1\n",
    "data = pandas.read_excel('currency_exchange_data.xlsx', skiprows = 1)"
   ]
  },
  {
   "cell_type": "code",
   "execution_count": 5,
   "metadata": {},
   "outputs": [
    {
     "data": {
      "text/html": [
       "<div>\n",
       "<style scoped>\n",
       "    .dataframe tbody tr th:only-of-type {\n",
       "        vertical-align: middle;\n",
       "    }\n",
       "\n",
       "    .dataframe tbody tr th {\n",
       "        vertical-align: top;\n",
       "    }\n",
       "\n",
       "    .dataframe thead th {\n",
       "        text-align: right;\n",
       "    }\n",
       "</style>\n",
       "<table border=\"1\" class=\"dataframe\">\n",
       "  <thead>\n",
       "    <tr style=\"text-align: right;\">\n",
       "      <th></th>\n",
       "      <th>2024-05-01</th>\n",
       "      <th>US Dollar</th>\n",
       "      <th>0.006343074131188286</th>\n",
       "    </tr>\n",
       "  </thead>\n",
       "  <tbody>\n",
       "    <tr>\n",
       "      <th>0</th>\n",
       "      <td>2024-05-01</td>\n",
       "      <td>Euro</td>\n",
       "      <td>0.005939370701741986</td>\n",
       "    </tr>\n",
       "    <tr>\n",
       "      <th>1</th>\n",
       "      <td>2024-05-01</td>\n",
       "      <td>British Pound</td>\n",
       "      <td>0.005079471188726964</td>\n",
       "    </tr>\n",
       "    <tr>\n",
       "      <th>2</th>\n",
       "      <td>2024-05-01</td>\n",
       "      <td>Indian Rupee</td>\n",
       "      <td>0.5293889204561103</td>\n",
       "    </tr>\n",
       "    <tr>\n",
       "      <th>3</th>\n",
       "      <td>2024-05-01</td>\n",
       "      <td>Australian Dollar</td>\n",
       "      <td>0.009768078728538975</td>\n",
       "    </tr>\n",
       "    <tr>\n",
       "      <th>4</th>\n",
       "      <td>2024-05-01</td>\n",
       "      <td>Canadian Dollar</td>\n",
       "      <td>0.008728848032792806</td>\n",
       "    </tr>\n",
       "  </tbody>\n",
       "</table>\n",
       "</div>"
      ],
      "text/plain": [
       "   2024-05-01          US Dollar  0.006343074131188286\n",
       "0  2024-05-01               Euro  0.005939370701741986\n",
       "1  2024-05-01      British Pound  0.005079471188726964\n",
       "2  2024-05-01       Indian Rupee    0.5293889204561103\n",
       "3  2024-05-01  Australian Dollar  0.009768078728538975\n",
       "4  2024-05-01    Canadian Dollar  0.008728848032792806"
      ]
     },
     "execution_count": 5,
     "metadata": {},
     "output_type": "execute_result"
    }
   ],
   "source": [
    "# Excel sheet information \n",
    "# Give 5 first lines\n",
    "data.head()"
   ]
  },
  {
   "cell_type": "code",
   "execution_count": 7,
   "metadata": {},
   "outputs": [
    {
     "data": {
      "text/html": [
       "<div>\n",
       "<style scoped>\n",
       "    .dataframe tbody tr th:only-of-type {\n",
       "        vertical-align: middle;\n",
       "    }\n",
       "\n",
       "    .dataframe tbody tr th {\n",
       "        vertical-align: top;\n",
       "    }\n",
       "\n",
       "    .dataframe thead th {\n",
       "        text-align: right;\n",
       "    }\n",
       "</style>\n",
       "<table border=\"1\" class=\"dataframe\">\n",
       "  <thead>\n",
       "    <tr style=\"text-align: right;\">\n",
       "      <th></th>\n",
       "      <th>Currency</th>\n",
       "      <th>Exchange Rate</th>\n",
       "    </tr>\n",
       "    <tr>\n",
       "      <th>Date</th>\n",
       "      <th></th>\n",
       "      <th></th>\n",
       "    </tr>\n",
       "  </thead>\n",
       "  <tbody>\n",
       "    <tr>\n",
       "      <th>2024-05-01</th>\n",
       "      <td>US Dollar</td>\n",
       "      <td>0.006343074131188286</td>\n",
       "    </tr>\n",
       "    <tr>\n",
       "      <th>2024-05-01</th>\n",
       "      <td>Euro</td>\n",
       "      <td>0.005939370701741986</td>\n",
       "    </tr>\n",
       "    <tr>\n",
       "      <th>2024-05-01</th>\n",
       "      <td>British Pound</td>\n",
       "      <td>0.005079471188726964</td>\n",
       "    </tr>\n",
       "    <tr>\n",
       "      <th>2024-05-01</th>\n",
       "      <td>Indian Rupee</td>\n",
       "      <td>0.5293889204561103</td>\n",
       "    </tr>\n",
       "    <tr>\n",
       "      <th>2024-05-01</th>\n",
       "      <td>Australian Dollar</td>\n",
       "      <td>0.009768078728538975</td>\n",
       "    </tr>\n",
       "  </tbody>\n",
       "</table>\n",
       "</div>"
      ],
      "text/plain": [
       "                     Currency         Exchange Rate\n",
       "Date                                               \n",
       "2024-05-01          US Dollar  0.006343074131188286\n",
       "2024-05-01               Euro  0.005939370701741986\n",
       "2024-05-01      British Pound  0.005079471188726964\n",
       "2024-05-01       Indian Rupee    0.5293889204561103\n",
       "2024-05-01  Australian Dollar  0.009768078728538975"
      ]
     },
     "execution_count": 7,
     "metadata": {},
     "output_type": "execute_result"
    }
   ],
   "source": [
    "# Excel sheet information \n",
    "# Give 5 first lines\n",
    "data.head()"
   ]
  },
  {
   "cell_type": "code",
   "execution_count": 8,
   "metadata": {},
   "outputs": [
    {
     "data": {
      "text/html": [
       "<div>\n",
       "<style scoped>\n",
       "    .dataframe tbody tr th:only-of-type {\n",
       "        vertical-align: middle;\n",
       "    }\n",
       "\n",
       "    .dataframe tbody tr th {\n",
       "        vertical-align: top;\n",
       "    }\n",
       "\n",
       "    .dataframe thead th {\n",
       "        text-align: right;\n",
       "    }\n",
       "</style>\n",
       "<table border=\"1\" class=\"dataframe\">\n",
       "  <thead>\n",
       "    <tr style=\"text-align: right;\">\n",
       "      <th></th>\n",
       "      <th>Currency</th>\n",
       "      <th>Exchange Rate</th>\n",
       "    </tr>\n",
       "    <tr>\n",
       "      <th>Date</th>\n",
       "      <th></th>\n",
       "      <th></th>\n",
       "    </tr>\n",
       "  </thead>\n",
       "  <tbody>\n",
       "    <tr>\n",
       "      <th>2024-05-01</th>\n",
       "      <td>US Dollar</td>\n",
       "      <td>0.006343074131188286</td>\n",
       "    </tr>\n",
       "    <tr>\n",
       "      <th>2024-05-01</th>\n",
       "      <td>Euro</td>\n",
       "      <td>0.005939370701741986</td>\n",
       "    </tr>\n",
       "    <tr>\n",
       "      <th>2024-05-01</th>\n",
       "      <td>British Pound</td>\n",
       "      <td>0.005079471188726964</td>\n",
       "    </tr>\n",
       "    <tr>\n",
       "      <th>2024-05-01</th>\n",
       "      <td>Indian Rupee</td>\n",
       "      <td>0.5293889204561103</td>\n",
       "    </tr>\n",
       "    <tr>\n",
       "      <th>2024-05-01</th>\n",
       "      <td>Australian Dollar</td>\n",
       "      <td>0.009768078728538975</td>\n",
       "    </tr>\n",
       "    <tr>\n",
       "      <th>2024-05-01</th>\n",
       "      <td>Canadian Dollar</td>\n",
       "      <td>0.008728848032792806</td>\n",
       "    </tr>\n",
       "    <tr>\n",
       "      <th>2024-05-01</th>\n",
       "      <td>Singapore Dollar</td>\n",
       "      <td>0.008650100842669482</td>\n",
       "    </tr>\n",
       "    <tr>\n",
       "      <th>2024-05-01</th>\n",
       "      <td>Swiss Franc</td>\n",
       "      <td>0.005832257578802315</td>\n",
       "    </tr>\n",
       "    <tr>\n",
       "      <th>2024-05-01</th>\n",
       "      <td>Malaysian Ringgit</td>\n",
       "      <td>0.030241633633456177</td>\n",
       "    </tr>\n",
       "    <tr>\n",
       "      <th>2024-05-01</th>\n",
       "      <td>Japanese Yen</td>\n",
       "      <td>1</td>\n",
       "    </tr>\n",
       "  </tbody>\n",
       "</table>\n",
       "</div>"
      ],
      "text/plain": [
       "                     Currency         Exchange Rate\n",
       "Date                                               \n",
       "2024-05-01          US Dollar  0.006343074131188286\n",
       "2024-05-01               Euro  0.005939370701741986\n",
       "2024-05-01      British Pound  0.005079471188726964\n",
       "2024-05-01       Indian Rupee    0.5293889204561103\n",
       "2024-05-01  Australian Dollar  0.009768078728538975\n",
       "2024-05-01    Canadian Dollar  0.008728848032792806\n",
       "2024-05-01   Singapore Dollar  0.008650100842669482\n",
       "2024-05-01        Swiss Franc  0.005832257578802315\n",
       "2024-05-01  Malaysian Ringgit  0.030241633633456177\n",
       "2024-05-01       Japanese Yen                     1"
      ]
     },
     "execution_count": 8,
     "metadata": {},
     "output_type": "execute_result"
    }
   ],
   "source": [
    "# Excel sheet information \n",
    "# Give 10 first lines\n",
    "data.head(10)"
   ]
  },
  {
   "cell_type": "code",
   "execution_count": null,
   "metadata": {},
   "outputs": [
    {
     "data": {
      "text/html": [
       "<div>\n",
       "<style scoped>\n",
       "    .dataframe tbody tr th:only-of-type {\n",
       "        vertical-align: middle;\n",
       "    }\n",
       "\n",
       "    .dataframe tbody tr th {\n",
       "        vertical-align: top;\n",
       "    }\n",
       "\n",
       "    .dataframe thead th {\n",
       "        text-align: right;\n",
       "    }\n",
       "</style>\n",
       "<table border=\"1\" class=\"dataframe\">\n",
       "  <thead>\n",
       "    <tr style=\"text-align: right;\">\n",
       "      <th></th>\n",
       "      <th>Currency</th>\n",
       "      <th>Exchange Rate</th>\n",
       "    </tr>\n",
       "    <tr>\n",
       "      <th>Date</th>\n",
       "      <th></th>\n",
       "      <th></th>\n",
       "    </tr>\n",
       "  </thead>\n",
       "  <tbody>\n",
       "    <tr>\n",
       "      <th>2024-05-05</th>\n",
       "      <td>&lt;a href=\"/currencycharts/?from=EUR&amp;amp;to=JPY\"...</td>\n",
       "      <td>160.400</td>\n",
       "    </tr>\n",
       "    <tr>\n",
       "      <th>2024-05-05</th>\n",
       "      <td>&lt;a href=\"/currencycharts/?from=AUD&amp;amp;to=USD\"...</td>\n",
       "      <td>0.630397</td>\n",
       "    </tr>\n",
       "    <tr>\n",
       "      <th>2024-05-05</th>\n",
       "      <td>&lt;a href=\"/currency/jpy-japanese-yen/\" class=\"s...</td>\n",
       "      <td>0.25%</td>\n",
       "    </tr>\n",
       "    <tr>\n",
       "      <th>2024-05-05</th>\n",
       "      <td>&lt;a href=\"/currency/chf-swiss-franc/\" class=\"sc...</td>\n",
       "      <td>1.00%</td>\n",
       "    </tr>\n",
       "    <tr>\n",
       "      <th>2024-05-05</th>\n",
       "      <td>&lt;a href=\"/currency/eur-euro/\" class=\"sc-77d4b8...</td>\n",
       "      <td>3.25%</td>\n",
       "    </tr>\n",
       "    <tr>\n",
       "      <th>2024-05-05</th>\n",
       "      <td>&lt;a href=\"/currency/usd-us-dollar/\" class=\"sc-7...</td>\n",
       "      <td>4.75%</td>\n",
       "    </tr>\n",
       "    <tr>\n",
       "      <th>2024-05-05</th>\n",
       "      <td>&lt;a href=\"/currency/cad-canadian-dollar/\" class...</td>\n",
       "      <td>3.25%</td>\n",
       "    </tr>\n",
       "    <tr>\n",
       "      <th>2024-05-05</th>\n",
       "      <td>&lt;a href=\"/currency/aud-australian-dollar/\" cla...</td>\n",
       "      <td>4.35%</td>\n",
       "    </tr>\n",
       "    <tr>\n",
       "      <th>2024-05-05</th>\n",
       "      <td>&lt;a href=\"/currency/nzd-new-zealand-dollar/\" cl...</td>\n",
       "      <td>4.25%</td>\n",
       "    </tr>\n",
       "    <tr>\n",
       "      <th>2024-05-05</th>\n",
       "      <td>&lt;a href=\"/currency/gbp-british-pound/\" class=\"...</td>\n",
       "      <td>4.75%</td>\n",
       "    </tr>\n",
       "  </tbody>\n",
       "</table>\n",
       "</div>"
      ],
      "text/plain": [
       "                                                     Currency Exchange Rate\n",
       "Date                                                                       \n",
       "2024-05-05  <a href=\"/currencycharts/?from=EUR&amp;to=JPY\"...       160.400\n",
       "2024-05-05  <a href=\"/currencycharts/?from=AUD&amp;to=USD\"...      0.630397\n",
       "2024-05-05  <a href=\"/currency/jpy-japanese-yen/\" class=\"s...         0.25%\n",
       "2024-05-05  <a href=\"/currency/chf-swiss-franc/\" class=\"sc...         1.00%\n",
       "2024-05-05  <a href=\"/currency/eur-euro/\" class=\"sc-77d4b8...         3.25%\n",
       "2024-05-05  <a href=\"/currency/usd-us-dollar/\" class=\"sc-7...         4.75%\n",
       "2024-05-05  <a href=\"/currency/cad-canadian-dollar/\" class...         3.25%\n",
       "2024-05-05  <a href=\"/currency/aud-australian-dollar/\" cla...         4.35%\n",
       "2024-05-05  <a href=\"/currency/nzd-new-zealand-dollar/\" cl...         4.25%\n",
       "2024-05-05  <a href=\"/currency/gbp-british-pound/\" class=\"...         4.75%"
      ]
     },
     "execution_count": 9,
     "metadata": {},
     "output_type": "execute_result"
    }
   ],
   "source": [
    "# for last 10 lines\n",
    "data.tail(10)"
   ]
  },
  {
   "cell_type": "code",
   "execution_count": null,
   "metadata": {},
   "outputs": [
    {
     "name": "stdout",
     "output_type": "stream",
     "text": [
      "<class 'pandas.core.frame.DataFrame'>\n",
      "Index: 990 entries, 2024-05-01 to 2024-05-05\n",
      "Data columns (total 2 columns):\n",
      " #   Column         Non-Null Count  Dtype \n",
      "---  ------         --------------  ----- \n",
      " 0   Currency       990 non-null    object\n",
      " 1   Exchange Rate  990 non-null    object\n",
      "dtypes: object(2)\n",
      "memory usage: 55.5+ KB\n"
     ]
    }
   ],
   "source": [
    "# For data info\n",
    "data.info()"
   ]
  },
  {
   "cell_type": "code",
   "execution_count": null,
   "metadata": {},
   "outputs": [
    {
     "data": {
      "text/plain": [
       "(990, 2)"
      ]
     },
     "execution_count": 12,
     "metadata": {},
     "output_type": "execute_result"
    }
   ],
   "source": [
    "# dimension of data (x, y)\n",
    "data.shape"
   ]
  },
  {
   "cell_type": "code",
   "execution_count": null,
   "metadata": {},
   "outputs": [],
   "source": [
    "# number of rows\n",
    "rows = data.shape[0]\n",
    "rows"
   ]
  },
  {
   "cell_type": "code",
   "execution_count": 15,
   "metadata": {},
   "outputs": [
    {
     "data": {
      "text/plain": [
       "2"
      ]
     },
     "execution_count": 15,
     "metadata": {},
     "output_type": "execute_result"
    }
   ],
   "source": [
    "# number of columns\n",
    "columns  = data.shape[1]\n",
    "columns"
   ]
  },
  {
   "cell_type": "code",
   "execution_count": 16,
   "metadata": {},
   "outputs": [
    {
     "data": {
      "text/plain": [
       "Currency         object\n",
       "Exchange Rate    object\n",
       "dtype: object"
      ]
     },
     "execution_count": 16,
     "metadata": {},
     "output_type": "execute_result"
    }
   ],
   "source": [
    "# data type\n",
    "data.dtypes"
   ]
  },
  {
   "cell_type": "code",
   "execution_count": 17,
   "metadata": {},
   "outputs": [
    {
     "data": {
      "text/plain": [
       "Index(['Currency', 'Exchange Rate'], dtype='object')"
      ]
     },
     "execution_count": 17,
     "metadata": {},
     "output_type": "execute_result"
    }
   ],
   "source": [
    "# columns names\n",
    "data.columns"
   ]
  },
  {
   "cell_type": "code",
   "execution_count": 20,
   "metadata": {},
   "outputs": [
    {
     "data": {
      "text/plain": [
       "Date\n",
       "2024-05-01                                            US Dollar\n",
       "2024-05-01                                                 Euro\n",
       "2024-05-01                                        British Pound\n",
       "2024-05-01                                         Indian Rupee\n",
       "2024-05-01                                    Australian Dollar\n",
       "                                    ...                        \n",
       "2024-05-05    <a href=\"/currency/usd-us-dollar/\" class=\"sc-7...\n",
       "2024-05-05    <a href=\"/currency/cad-canadian-dollar/\" class...\n",
       "2024-05-05    <a href=\"/currency/aud-australian-dollar/\" cla...\n",
       "2024-05-05    <a href=\"/currency/nzd-new-zealand-dollar/\" cl...\n",
       "2024-05-05    <a href=\"/currency/gbp-british-pound/\" class=\"...\n",
       "Name: Currency, Length: 990, dtype: object"
      ]
     },
     "execution_count": 20,
     "metadata": {},
     "output_type": "execute_result"
    }
   ],
   "source": [
    "# check a specific column\n",
    "data['Currency']"
   ]
  },
  {
   "cell_type": "code",
   "execution_count": null,
   "metadata": {},
   "outputs": [],
   "source": []
  }
 ],
 "metadata": {
  "kernelspec": {
   "display_name": ".venv",
   "language": "python",
   "name": "python3"
  },
  "language_info": {
   "codemirror_mode": {
    "name": "ipython",
    "version": 3
   },
   "file_extension": ".py",
   "mimetype": "text/x-python",
   "name": "python",
   "nbconvert_exporter": "python",
   "pygments_lexer": "ipython3",
   "version": "3.13.2"
  }
 },
 "nbformat": 4,
 "nbformat_minor": 2
}
