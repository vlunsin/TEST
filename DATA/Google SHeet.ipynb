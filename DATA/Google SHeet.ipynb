{
 "cells": [
  {
   "cell_type": "code",
   "execution_count": 1,
   "metadata": {},
   "outputs": [],
   "source": [
    "# Google cloud Console\n",
    "# New project\n",
    "# need to get API & Services\n",
    "# google sheets api\n",
    "# Enable API\n",
    "# Create Credentials\n",
    "# Application Data\n",
    "# Need a Service account\n",
    "# Role need to be editor\n",
    "# Download the credentials\n",
    "# Add key in JSON format, will be downloaded \n",
    "# the key should be put in same folder as python file"
   ]
  },
  {
   "cell_type": "code",
   "execution_count": 2,
   "metadata": {},
   "outputs": [],
   "source": [
    "# In Service Accounts, check email of service account\n",
    "# and share the file with the email address to give permission"
   ]
  },
  {
   "cell_type": "code",
   "execution_count": 5,
   "metadata": {},
   "outputs": [],
   "source": [
    "# Need a few packages\n",
    "# Create virtual environment\n",
    "# python -m venv \"name of env\"\n",
    "# source \"name of env\"/bin/activate"
   ]
  },
  {
   "cell_type": "code",
   "execution_count": null,
   "metadata": {},
   "outputs": [],
   "source": [
    "# Need to install libraries\n",
    "# pip install google-api-python-client\n",
    "# pip install google-auth-httplib2\n",
    "# pip install google-auth-oauthlib\n",
    "# pip install gspread"
   ]
  },
  {
   "cell_type": "code",
   "execution_count": 7,
   "metadata": {},
   "outputs": [
    {
     "ename": "ModuleNotFoundError",
     "evalue": "No module named 'gspread'",
     "output_type": "error",
     "traceback": [
      "\u001b[31m---------------------------------------------------------------------------\u001b[39m",
      "\u001b[31mModuleNotFoundError\u001b[39m                       Traceback (most recent call last)",
      "\u001b[36mCell\u001b[39m\u001b[36m \u001b[39m\u001b[32mIn[7]\u001b[39m\u001b[32m, line 1\u001b[39m\n\u001b[32m----> \u001b[39m\u001b[32m1\u001b[39m \u001b[38;5;28;01mimport\u001b[39;00m\u001b[38;5;250m \u001b[39m\u001b[34;01mgspread\u001b[39;00m\n\u001b[32m      2\u001b[39m \u001b[38;5;28;01mfrom\u001b[39;00m\u001b[38;5;250m \u001b[39m\u001b[34;01mgoogle\u001b[39;00m\u001b[34;01m.\u001b[39;00m\u001b[34;01moauth2\u001b[39;00m\u001b[34;01m.\u001b[39;00m\u001b[34;01mservice_account\u001b[39;00m\u001b[38;5;250m \u001b[39m\u001b[38;5;28;01mimport\u001b[39;00m Credentials\n\u001b[32m      4\u001b[39m \u001b[38;5;66;03m# To access files\u001b[39;00m\n",
      "\u001b[31mModuleNotFoundError\u001b[39m: No module named 'gspread'"
     ]
    }
   ],
   "source": [
    "import gspread\n",
    "from google.oauth2.service_account import Credentials\n",
    "\n",
    "# To access files\n",
    "scopes = [\n",
    "    \"https://www.googleapis.com/auth/spreadsheets\"\n",
    "]\n",
    "\n",
    "creds = Credentials.from_service_account_file(\"credentials.json\", scopes=scopes)\n",
    "client = gspread.authorize(creds)\n",
    "\n",
    "sheet_id = \"\"\n",
    "# to find id of document, in url\n",
    "sheet = client.open_by_key(sheet_id)\n",
    "# can open with different ways, id doesn't change so good\n",
    "\n",
    "values_list = sheet.sheet1.row_values(1)\n",
    "print(values_list)\n"
   ]
  },
  {
   "cell_type": "code",
   "execution_count": 8,
   "metadata": {},
   "outputs": [],
   "source": [
    "# Check gspread to documentation on worksheets"
   ]
  },
  {
   "cell_type": "code",
   "execution_count": 1,
   "metadata": {},
   "outputs": [
    {
     "ename": "NameError",
     "evalue": "name 'workbook' is not defined",
     "output_type": "error",
     "traceback": [
      "\u001b[31m---------------------------------------------------------------------------\u001b[39m",
      "\u001b[31mNameError\u001b[39m                                 Traceback (most recent call last)",
      "\u001b[36mCell\u001b[39m\u001b[36m \u001b[39m\u001b[32mIn[1]\u001b[39m\u001b[32m, line 2\u001b[39m\n\u001b[32m      1\u001b[39m \u001b[38;5;66;03m# select worksheets\u001b[39;00m\n\u001b[32m----> \u001b[39m\u001b[32m2\u001b[39m sheets = \u001b[43mworkbook\u001b[49m.worksheet()\n\u001b[32m      3\u001b[39m sheets = \u001b[38;5;28mmap\u001b[39m(\u001b[38;5;28;01mlambda\u001b[39;00m x: x.title, worbook.worksheets())\n\u001b[32m      5\u001b[39m sheet = workbook.worksheet(\u001b[33m\"\u001b[39m\u001b[33mSheet 1\u001b[39m\u001b[33m\"\u001b[39m)\n",
      "\u001b[31mNameError\u001b[39m: name 'workbook' is not defined"
     ]
    }
   ],
   "source": [
    "# select worksheets\n",
    "sheets = workbook.worksheet()\n",
    "sheets = map(lambda x: x.title, worbook.worksheets())\n",
    "\n",
    "sheet = workbook.worksheet(\"Sheet 1\")\n",
    "sheet.update_title(\"New title of sheet\")"
   ]
  },
  {
   "cell_type": "code",
   "execution_count": 2,
   "metadata": {},
   "outputs": [
    {
     "ename": "NameError",
     "evalue": "name 'sheet' is not defined",
     "output_type": "error",
     "traceback": [
      "\u001b[31m---------------------------------------------------------------------------\u001b[39m",
      "\u001b[31mNameError\u001b[39m                                 Traceback (most recent call last)",
      "\u001b[36mCell\u001b[39m\u001b[36m \u001b[39m\u001b[32mIn[2]\u001b[39m\u001b[32m, line 2\u001b[39m\n\u001b[32m      1\u001b[39m \u001b[38;5;66;03m# update a cell\u001b[39;00m\n\u001b[32m----> \u001b[39m\u001b[32m2\u001b[39m \u001b[43msheet\u001b[49m.update_acell(\u001b[33m\"\u001b[39m\u001b[33mB3\u001b[39m\u001b[33m\"\u001b[39m, \u001b[33m\"\u001b[39m\u001b[33mnew value\u001b[39m\u001b[33m\"\u001b[39m)\n\u001b[32m      3\u001b[39m sheet.update_cell(\u001b[32m1\u001b[39m, \u001b[32m1\u001b[39m, \u001b[33m\"\u001b[39m\u001b[33mnew value\u001b[39m\u001b[33m\"\u001b[39m) \u001b[38;5;66;03m# would update with row = 1 and col = 1\u001b[39;00m\n",
      "\u001b[31mNameError\u001b[39m: name 'sheet' is not defined"
     ]
    }
   ],
   "source": [
    "# update a cell\n",
    "sheet.update_acell(\"B3\", \"new value\")\n",
    "sheet.update_cell(1, 1, \"new value\") # would update with row = 1 and col = 1"
   ]
  },
  {
   "cell_type": "code",
   "execution_count": 3,
   "metadata": {},
   "outputs": [
    {
     "ename": "NameError",
     "evalue": "name 'sheet' is not defined",
     "output_type": "error",
     "traceback": [
      "\u001b[31m---------------------------------------------------------------------------\u001b[39m",
      "\u001b[31mNameError\u001b[39m                                 Traceback (most recent call last)",
      "\u001b[36mCell\u001b[39m\u001b[36m \u001b[39m\u001b[32mIn[3]\u001b[39m\u001b[32m, line 2\u001b[39m\n\u001b[32m      1\u001b[39m \u001b[38;5;66;03m# value of a cell\u001b[39;00m\n\u001b[32m----> \u001b[39m\u001b[32m2\u001b[39m value = \u001b[43msheet\u001b[49m.acell(\u001b[33m\"\u001b[39m\u001b[33mA1\u001b[39m\u001b[33m\"\u001b[39m).value\n\u001b[32m      3\u001b[39m value = sheet.cell(\u001b[32m1\u001b[39m, \u001b[32m1\u001b[39m).value\n",
      "\u001b[31mNameError\u001b[39m: name 'sheet' is not defined"
     ]
    }
   ],
   "source": [
    "# value of a cell\n",
    "value = sheet.acell(\"A1\").value\n",
    "value = sheet.cell(1, 1).value"
   ]
  },
  {
   "cell_type": "code",
   "execution_count": 4,
   "metadata": {},
   "outputs": [
    {
     "ename": "NameError",
     "evalue": "name 'sheet' is not defined",
     "output_type": "error",
     "traceback": [
      "\u001b[31m---------------------------------------------------------------------------\u001b[39m",
      "\u001b[31mNameError\u001b[39m                                 Traceback (most recent call last)",
      "\u001b[36mCell\u001b[39m\u001b[36m \u001b[39m\u001b[32mIn[4]\u001b[39m\u001b[32m, line 2\u001b[39m\n\u001b[32m      1\u001b[39m \u001b[38;5;66;03m# Locaating cells\u001b[39;00m\n\u001b[32m----> \u001b[39m\u001b[32m2\u001b[39m cell = \u001b[43msheet\u001b[49m.find(\u001b[33m\"\u001b[39m\u001b[33mText to find\u001b[39m\u001b[33m\"\u001b[39m)\n\u001b[32m      3\u001b[39m \u001b[38;5;28mprint\u001b[39m(cell.row, cell.col) \u001b[38;5;66;03m# would give info on the cell found\u001b[39;00m\n",
      "\u001b[31mNameError\u001b[39m: name 'sheet' is not defined"
     ]
    }
   ],
   "source": [
    "# Locaating cells\n",
    "cell = sheet.find(\"Text to find\")\n",
    "print(cell.row, cell.col) # would give info on the cell found"
   ]
  },
  {
   "cell_type": "code",
   "execution_count": null,
   "metadata": {},
   "outputs": [
    {
     "ename": "NameError",
     "evalue": "name 'sheet' is not defined",
     "output_type": "error",
     "traceback": [
      "\u001b[31m---------------------------------------------------------------------------\u001b[39m",
      "\u001b[31mNameError\u001b[39m                                 Traceback (most recent call last)",
      "\u001b[36mCell\u001b[39m\u001b[36m \u001b[39m\u001b[32mIn[5]\u001b[39m\u001b[32m, line 2\u001b[39m\n\u001b[32m      1\u001b[39m \u001b[38;5;66;03m# Basic formating\u001b[39;00m\n\u001b[32m----> \u001b[39m\u001b[32m2\u001b[39m \u001b[43msheet\u001b[49m.format(\u001b[33m\"\u001b[39m\u001b[33mA1:B1\u001b[39m\u001b[33m\"\u001b[39m,{\u001b[33m\"\u001b[39m\u001b[33mtextFormat\u001b[39m\u001b[33m\"\u001b[39m: {\u001b[33m\"\u001b[39m\u001b[33mbold\u001b[39m\u001b[33m\"\u001b[39m: \u001b[38;5;28;01mTrue\u001b[39;00m}})\n",
      "\u001b[31mNameError\u001b[39m: name 'sheet' is not defined"
     ]
    }
   ],
   "source": [
    "# Basic formatting\n",
    "sheet.format(\"A1:B1\",{\"textFormat\": {\"bold\": True}})"
   ]
  },
  {
   "cell_type": "code",
   "execution_count": null,
   "metadata": {},
   "outputs": [],
   "source": [
    "# gspread-formatting for more advanced\n",
    "# documentation available"
   ]
  },
  {
   "cell_type": "code",
   "execution_count": 7,
   "metadata": {},
   "outputs": [
    {
     "ename": "NameError",
     "evalue": "name 'workbook' is not defined",
     "output_type": "error",
     "traceback": [
      "\u001b[31m---------------------------------------------------------------------------\u001b[39m",
      "\u001b[31mNameError\u001b[39m                                 Traceback (most recent call last)",
      "\u001b[36mCell\u001b[39m\u001b[36m \u001b[39m\u001b[32mIn[7]\u001b[39m\u001b[32m, line 2\u001b[39m\n\u001b[32m      1\u001b[39m \u001b[38;5;66;03m# Example\u001b[39;00m\n\u001b[32m----> \u001b[39m\u001b[32m2\u001b[39m worksheet_list = \u001b[38;5;28mmap\u001b[39m(\u001b[38;5;28;01mlambda\u001b[39;00m x: x.title, \u001b[43mworkbook\u001b[49m.worksheets())\n\u001b[32m      3\u001b[39m new_worksheet_name = \u001b[33m\"\u001b[39m\u001b[33mValues\u001b[39m\u001b[33m\"\u001b[39m\n\u001b[32m      5\u001b[39m \u001b[38;5;28;01mif\u001b[39;00m new_worksheet_name \u001b[38;5;129;01min\u001b[39;00m worksheet_list:\n",
      "\u001b[31mNameError\u001b[39m: name 'workbook' is not defined"
     ]
    }
   ],
   "source": [
    "# Example\n",
    "worksheet_list = map(lambda x: x.title, workbook.worksheets())\n",
    "new_worksheet_name = \"Values\"\n",
    "\n",
    "if new_worksheet_name in worksheet_list:\n",
    "    sheet = workbook.worksheet(new_worksheet_name)\n",
    "else:\n",
    "    sheet = workbook.add_worksheet(new_worksheet_name, rows=10, cols=10)"
   ]
  },
  {
   "cell_type": "code",
   "execution_count": 8,
   "metadata": {},
   "outputs": [
    {
     "ename": "NameError",
     "evalue": "name 'sheet' is not defined",
     "output_type": "error",
     "traceback": [
      "\u001b[31m---------------------------------------------------------------------------\u001b[39m",
      "\u001b[31mNameError\u001b[39m                                 Traceback (most recent call last)",
      "\u001b[36mCell\u001b[39m\u001b[36m \u001b[39m\u001b[32mIn[8]\u001b[39m\u001b[32m, line 2\u001b[39m\n\u001b[32m      1\u001b[39m \u001b[38;5;66;03m# to clear a sheet\u001b[39;00m\n\u001b[32m----> \u001b[39m\u001b[32m2\u001b[39m \u001b[43msheet\u001b[49m.clear()\n",
      "\u001b[31mNameError\u001b[39m: name 'sheet' is not defined"
     ]
    }
   ],
   "source": [
    "# to clear a sheet\n",
    "sheet.clear()"
   ]
  },
  {
   "cell_type": "code",
   "execution_count": 9,
   "metadata": {},
   "outputs": [
    {
     "ename": "NameError",
     "evalue": "name 'sheet' is not defined",
     "output_type": "error",
     "traceback": [
      "\u001b[31m---------------------------------------------------------------------------\u001b[39m",
      "\u001b[31mNameError\u001b[39m                                 Traceback (most recent call last)",
      "\u001b[36mCell\u001b[39m\u001b[36m \u001b[39m\u001b[32mIn[9]\u001b[39m\u001b[32m, line 2\u001b[39m\n\u001b[32m      1\u001b[39m \u001b[38;5;66;03m# Can update a range of cells at the same time\u001b[39;00m\n\u001b[32m----> \u001b[39m\u001b[32m2\u001b[39m \u001b[43msheet\u001b[49m.update(\u001b[33mf\u001b[39m\u001b[33m\"\u001b[39m\u001b[33mA1:C\u001b[39m\u001b[38;5;132;01m{\u001b[39;00m\u001b[38;5;28mlen\u001b[39m(values)\u001b[38;5;132;01m}\u001b[39;00m\u001b[33m\"\u001b[39m, values) \u001b[38;5;66;03m# for update from A1 to C something\u001b[39;00m\n",
      "\u001b[31mNameError\u001b[39m: name 'sheet' is not defined"
     ]
    }
   ],
   "source": [
    "# Can update a range of cells at the same time\n",
    "sheet.update(f\"A1:C{len(values)}\", values) # for update from A1 to C something"
   ]
  },
  {
   "cell_type": "code",
   "execution_count": null,
   "metadata": {},
   "outputs": [],
   "source": [
    "# formatting\n",
    "sheet.format(\"A1:C1\", {\"textFormat\": {\"bold\": True}})\n",
    "sheet.update_cell(len(values) + 1, 2, \"=sum(B2:B4)\")\n",
    "sheet.update_cell(len(values) + 1, 3, \"=sum(C2:C4)\")"
   ]
  }
 ],
 "metadata": {
  "kernelspec": {
   "display_name": ".venv",
   "language": "python",
   "name": "python3"
  },
  "language_info": {
   "codemirror_mode": {
    "name": "ipython",
    "version": 3
   },
   "file_extension": ".py",
   "mimetype": "text/x-python",
   "name": "python",
   "nbconvert_exporter": "python",
   "pygments_lexer": "ipython3",
   "version": "3.13.2"
  }
 },
 "nbformat": 4,
 "nbformat_minor": 2
}
