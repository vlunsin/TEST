{
 "cells": [
  {
   "cell_type": "code",
   "execution_count": 1,
   "metadata": {},
   "outputs": [],
   "source": [
    "# use of openpyxl library\n",
    "from openpyxl import Workbook, load_workbook\n"
   ]
  },
  {
   "cell_type": "code",
   "execution_count": 4,
   "metadata": {},
   "outputs": [],
   "source": [
    "# the path is from where the python file is\n",
    "# cannot open if excel file already opened\n",
    "wb = load_workbook('currency_exchange_data.xlsx')"
   ]
  },
  {
   "cell_type": "code",
   "execution_count": 6,
   "metadata": {},
   "outputs": [
    {
     "data": {
      "text/plain": [
       "<Worksheet \"Exchange Rates\">"
      ]
     },
     "execution_count": 6,
     "metadata": {},
     "output_type": "execute_result"
    }
   ],
   "source": [
    "# give active worksheet\n",
    "ws = wb.active\n",
    "ws"
   ]
  },
  {
   "cell_type": "code",
   "execution_count": 10,
   "metadata": {},
   "outputs": [
    {
     "name": "stdout",
     "output_type": "stream",
     "text": [
      "2024-05-01\n"
     ]
    }
   ],
   "source": [
    "# Access individual values\n",
    "print(ws['A2'].value)"
   ]
  },
  {
   "cell_type": "code",
   "execution_count": 12,
   "metadata": {},
   "outputs": [],
   "source": [
    "# change a value\n",
    "# for changes to be effective, need to save\n",
    "ws['A2'].value = 'TEST'\n",
    "\n",
    "wb.save('automation_test.xlsx')"
   ]
  },
  {
   "cell_type": "code",
   "execution_count": null,
   "metadata": {},
   "outputs": [
    {
     "name": "stdout",
     "output_type": "stream",
     "text": [
      "['Exchange Rates']\n"
     ]
    }
   ],
   "source": [
    "# Operations on sheets\n",
    "print(wb.sheetnames)\n",
    "wb.create_sheet(\"TEST\")\n",
    "wb.save('automation_test.xlsx')\n",
    "print(wb.sheetnames)\n"
   ]
  },
  {
   "cell_type": "code",
   "execution_count": null,
   "metadata": {},
   "outputs": [],
   "source": [
    "# Create a new workbook\n",
    "wb = Workbook()\n",
    "# Create a new sheet DATA\n",
    "ws = wb.active\n",
    "ws.title = \"DATA\"\n",
    "# Appending means adding to end of worksheet\n",
    "ws.append(['Tim', 'Is', ' Great', '!'])\n",
    "\n",
    "wb.save('tim.xlsx')"
   ]
  },
  {
   "cell_type": "code",
   "execution_count": 27,
   "metadata": {},
   "outputs": [],
   "source": [
    "# Accessing multiple cells\n",
    "wb = load_workbook('tim.xlsx')\n",
    "ws = wb.active\n",
    "\n",
    "from openpyxl.utils import get_column_letter\n",
    "\n",
    "# function to get the column \n",
    "# can use function char = chr(65 + col)\n",
    "for row in range(1, 11):\n",
    "    for col in range(1, 5):\n",
    "        char = get_column_letter(col)\n",
    "        ws[char + str(row)].value = char + str(row)\n",
    "\n",
    "wb.save('tim.xlsx')"
   ]
  },
  {
   "cell_type": "code",
   "execution_count": 28,
   "metadata": {},
   "outputs": [],
   "source": [
    "# Merging cells\n",
    "ws.merge_cells(\"A1:D1\") # would merge A1 to D1\n",
    "\n",
    "# unmerge\n",
    "ws.unmerge_cells(\"A1:D1\")"
   ]
  },
  {
   "cell_type": "code",
   "execution_count": null,
   "metadata": {},
   "outputs": [],
   "source": [
    "# insert and delete rows and columns\n",
    "ws.insert_rows(7)    # will insert empty row after row 7\n",
    "ws.insert_cols(3)   # will insert empty col after col 3\n",
    "ws.delete_cols(2)\n",
    "ws.delete_rows(1)"
   ]
  },
  {
   "cell_type": "code",
   "execution_count": 31,
   "metadata": {},
   "outputs": [],
   "source": [
    "# Copying and moving cells\n",
    "ws.move_range(\"C1:D11\", rows=2, cols=5) # to move 2 rows down, 5 columns right"
   ]
  },
  {
   "cell_type": "code",
   "execution_count": null,
   "metadata": {},
   "outputs": [
    {
     "ename": "AttributeError",
     "evalue": "'set' object has no attribute 'keys'",
     "output_type": "error",
     "traceback": [
      "\u001b[31m---------------------------------------------------------------------------\u001b[39m",
      "\u001b[31mAttributeError\u001b[39m                            Traceback (most recent call last)",
      "\u001b[36mCell\u001b[39m\u001b[36m \u001b[39m\u001b[32mIn[34]\u001b[39m\u001b[32m, line 13\u001b[39m\n\u001b[32m      5\u001b[39m ws.title = \u001b[33m\"\u001b[39m\u001b[33mGrades\u001b[39m\u001b[33m\"\u001b[39m\n\u001b[32m      7\u001b[39m data = {\n\u001b[32m      8\u001b[39m         \u001b[33m\"\u001b[39m\u001b[33mJoe\u001b[39m\u001b[33m\"\u001b[39m: {\n\u001b[32m      9\u001b[39m                 \u001b[33m\"\u001b[39m\u001b[33mmath\u001b[39m\u001b[33m\"\u001b[39m\n\u001b[32m     10\u001b[39m         }\n\u001b[32m     11\u001b[39m }\n\u001b[32m---> \u001b[39m\u001b[32m13\u001b[39m headings = [\u001b[33m'\u001b[39m\u001b[33mName\u001b[39m\u001b[33m'\u001b[39m] + \u001b[38;5;28mlist\u001b[39m(\u001b[43mdata\u001b[49m\u001b[43m[\u001b[49m\u001b[33;43m'\u001b[39;49m\u001b[33;43mJoe\u001b[39;49m\u001b[33;43m'\u001b[39;49m\u001b[43m]\u001b[49m\u001b[43m.\u001b[49m\u001b[43mkeys\u001b[49m())\n\u001b[32m     14\u001b[39m ws.append(headings)\n\u001b[32m     16\u001b[39m \u001b[38;5;28;01mfor\u001b[39;00m person \u001b[38;5;129;01min\u001b[39;00m data:\n",
      "\u001b[31mAttributeError\u001b[39m: 'set' object has no attribute 'keys'"
     ]
    }
   ],
   "source": [
    "from openpyxl.styles import Font\n",
    "\n",
    "wb = Workbook()\n",
    "ws = wb.active\n",
    "ws.title = \"Grades\"\n",
    "\n",
    "data = {\n",
    "        \"Joe\": {\n",
    "                \"math\" : 20\n",
    "        }\n",
    "}\n",
    "\n",
    "headings = ['Name'] + list(data['Joe'].keys())\n",
    "ws.append(headings)\n",
    "\n",
    "for person in data:\n",
    "        grades = data[person].values()\n",
    "        ws.append([person] + grades)\n",
    "\n",
    "wb.save('new file.xlsx')"
   ]
  },
  {
   "cell_type": "code",
   "execution_count": 35,
   "metadata": {},
   "outputs": [],
   "source": [
    "# to calculate average\n",
    "for col in range(2, len(data['Joe']) + 2):   # because we start at column 2\n",
    "    char = get_column_letter(col)\n",
    "    ws[char + \"7\"] = f\"=SUM({char + '2'}:{char + '6'}/{len(data)})\""
   ]
  },
  {
   "cell_type": "code",
   "execution_count": null,
   "metadata": {},
   "outputs": [],
   "source": [
    "# change style of cells\n",
    "# cannot change a whole row, need to modify cells one by one\n",
    "for col in range(1, 6):\n",
    "    ws[get_column_letter(col) + '1'].font = Font(bold=True, color=\"0099CCFF\")"
   ]
  },
  {
   "cell_type": "code",
   "execution_count": null,
   "metadata": {},
   "outputs": [],
   "source": []
  }
 ],
 "metadata": {
  "kernelspec": {
   "display_name": ".venv",
   "language": "python",
   "name": "python3"
  },
  "language_info": {
   "codemirror_mode": {
    "name": "ipython",
    "version": 3
   },
   "file_extension": ".py",
   "mimetype": "text/x-python",
   "name": "python",
   "nbconvert_exporter": "python",
   "pygments_lexer": "ipython3",
   "version": "3.13.2"
  }
 },
 "nbformat": 4,
 "nbformat_minor": 2
}
